{
 "cells": [
  {
   "cell_type": "markdown",
   "metadata": {},
   "source": [
    "# Bing Local Business API"
   ]
  },
  {
   "cell_type": "markdown",
   "metadata": {},
   "source": [
    "Be sure to check out the _actual_ documentation [here.](https://docs.microsoft.com/en-us/azure/cognitive-services/bing-local-business-search/local-search-reference)   <br>"
   ]
  },
  {
   "cell_type": "markdown",
   "metadata": {},
   "source": [
    "**EXTREMELY IMPORTANT NOTE:**\n",
    "There is no \"Bing local business\" API in the Azure portal. You need a **Bing Search v7 API** subscription from https://portal.azure.com to use the local business endpoint, and you need to select the **S10 pricing tier**.  \n",
    "\n",
    "If you don't, nothing will work and you'll probably get really frustrated."
   ]
  },
  {
   "cell_type": "markdown",
   "metadata": {},
   "source": [
    "# Index\n",
    "- [Setup](#Setup)\n",
    "- [Search Business Listings with a Query](#Search-Business-Listings-with-a-Query)\n",
    "- [Paging](#Paging)\n",
    "- [Search Business Listings Categorically](#Search-Business-Listings-Categorically)"
   ]
  },
  {
   "cell_type": "markdown",
   "metadata": {},
   "source": [
    "## Setup"
   ]
  },
  {
   "cell_type": "markdown",
   "metadata": {},
   "source": [
    "#### _Imports & Constants_:"
   ]
  },
  {
   "cell_type": "code",
   "execution_count": 1,
   "metadata": {},
   "outputs": [],
   "source": [
    "import requests\n",
    "from pprint import pprint"
   ]
  },
  {
   "cell_type": "code",
   "execution_count": 2,
   "metadata": {},
   "outputs": [
    {
     "ename": "NameError",
     "evalue": "name 'os' is not defined",
     "output_type": "error",
     "traceback": [
      "\u001b[1;31m---------------------------------------------------------------------------\u001b[0m",
      "\u001b[1;31mNameError\u001b[0m                                 Traceback (most recent call last)",
      "\u001b[1;32m<ipython-input-2-fa77d27b2fed>\u001b[0m in \u001b[0;36m<module>\u001b[1;34m\u001b[0m\n\u001b[1;32m----> 1\u001b[1;33m \u001b[0mAPI_KEY\u001b[0m \u001b[1;33m=\u001b[0m \u001b[0mos\u001b[0m\u001b[1;33m.\u001b[0m\u001b[0menviron\u001b[0m\u001b[1;33m.\u001b[0m\u001b[0mget\u001b[0m\u001b[1;33m(\u001b[0m\u001b[1;34m'BING_KEY'\u001b[0m\u001b[1;33m,\u001b[0m \u001b[0mdefault\u001b[0m\u001b[1;33m=\u001b[0m\u001b[1;34m'ENTER YOUR API KEY HERE IF YOU DIDNT SET BING_KEY'\u001b[0m\u001b[1;33m)\u001b[0m\u001b[1;33m\u001b[0m\u001b[1;33m\u001b[0m\u001b[0m\n\u001b[0m",
      "\u001b[1;31mNameError\u001b[0m: name 'os' is not defined"
     ]
    }
   ],
   "source": [
    "API_KEY = os.environ.get('BING_KEY', default='ENTER YOUR API KEY HERE IF YOU DIDNT SET BING_KEY')"
   ]
  },
  {
   "cell_type": "code",
   "execution_count": null,
   "metadata": {},
   "outputs": [],
   "source": [
    "API_KEY = '637700676f0742e6a688ceeead973fe9'"
   ]
  },
  {
   "cell_type": "code",
   "execution_count": null,
   "metadata": {},
   "outputs": [],
   "source": [
    "BASE = 'https://api.cognitive.microsoft.com/bing/v7.0/'\n",
    "SUFFIX = 'localbusinesses/search?'\n",
    "ENDPOINT = BASE + SUFFIX"
   ]
  },
  {
   "cell_type": "code",
   "execution_count": null,
   "metadata": {},
   "outputs": [],
   "source": [
    "STARTING_HEADERS = {\n",
    "    'Ocp-Apim-Subscription-Key' : API_KEY\n",
    "}\n",
    "STARTING_PARAMS = {\n",
    "    \"q\" : None,\n",
    "    \"mkt\" : \"en-US\",\n",
    "    \"offset\" : \"0\",\n",
    "    \"count\" : \"50\"\n",
    "  }\n",
    "\n",
    "HEADERS = STARTING_HEADERS.copy()\n",
    "PARAMS = STARTING_PARAMS.copy()"
   ]
  },
  {
   "cell_type": "markdown",
   "metadata": {},
   "source": [
    "#### _Functions_:"
   ]
  },
  {
   "cell_type": "code",
   "execution_count": null,
   "metadata": {},
   "outputs": [],
   "source": [
    "# Common accross all notebooks - \n",
    "def call_api(query, session=None, custom_params=None, check_session=False):\n",
    "    sesh = session\n",
    "    if not session:\n",
    "        sesh = requests.Session()\n",
    "        sesh.params = PARAMS\n",
    "        sesh.params.update({'q' : query})\n",
    "        sesh.headers = HEADERS\n",
    "    if custom_params:\n",
    "        sesh.params.update(custom_params)\n",
    "    if check_session:\n",
    "        return (sesh.params, sesh.headers)\n",
    "    return sesh.get(ENDPOINT)\n",
    "\n",
    "def handle_response(resp):\n",
    "    assert resp.status_code == 200\n",
    "    return resp.json()"
   ]
  },
  {
   "cell_type": "code",
   "execution_count": null,
   "metadata": {},
   "outputs": [],
   "source": [
    "# helpers\n",
    "def get_listings(json):\n",
    "    return [i for i in json['places']['value']]\n",
    "\n",
    "def get_names(json):\n",
    "    return [i['name'] for i in json['places']['value']]\n",
    "\n",
    "def get_geo_dicts(json):\n",
    "    return [i['geo'] for i in json['places']['value']]\n",
    "\n",
    "def get_lats(json):\n",
    "    return [i['geo']['latitude'] for i in json['places']['value']]\n",
    "\n",
    "def get_longs(json):\n",
    "    return [i['geo']['longitude'] for i in json['places']['value']]\n",
    "\n",
    "def get_addr_dicts(json):\n",
    "    return [i['address'] for i in json['places']['value']]\n",
    "\n",
    "def get_neighborhoods(json):\n",
    "    return [i['address']['neighborhood'] for i in json['places']['value']]\n",
    "\n",
    "def get_zipcodes(json):\n",
    "    return [i['address']['postalCode'] for i in json['places']['value']]\n",
    "\n",
    "def get_cities(json):\n",
    "    return [i['address']['addressLocality'] for i in json['places']['value']]\n",
    "\n",
    "def get_states(json):\n",
    "    return [i['address']['addressRegion'] for i in json['places']['value']]\n",
    "\n",
    "def get_phone_nums(json):\n",
    "    return [i['telephone'] for i in json['places']['value']]"
   ]
  },
  {
   "cell_type": "code",
   "execution_count": null,
   "metadata": {},
   "outputs": [],
   "source": [
    "def get_tem(json):\n",
    "    return json['places']['totalEstimatedMatches']\n",
    "\n",
    "def dedupe(some_list):\n",
    "    return list(set(some_list))"
   ]
  },
  {
   "cell_type": "code",
   "execution_count": null,
   "metadata": {},
   "outputs": [],
   "source": [
    "def full_output(json):\n",
    "    return get_listings(json)\n",
    "\n",
    "def summarized_output(json):\n",
    "    return list(zip(get_names(json), get_cities(json)))"
   ]
  },
  {
   "cell_type": "code",
   "execution_count": null,
   "metadata": {},
   "outputs": [],
   "source": [
    "def get_json_from_bing(q, session=None, custom_params=None, check_session=False):\n",
    "    resp = call_api(q, session=session, custom_params=custom_params, check_session=check_session)\n",
    "    if check_session:\n",
    "        return resp\n",
    "    json = handle_response(resp)\n",
    "    return json\n",
    "\n",
    "def get_business_listings(q, session=None, custom_params=None, summarized=True, check_session=False):\n",
    "    json_or_check_session = get_json_from_bing(q=q, session=session, custom_params=custom_params, check_session=check_session)\n",
    "    if check_session:\n",
    "        return json_or_check_session\n",
    "    else:\n",
    "        json = json_or_check_session\n",
    "    if not summarized:\n",
    "        return full_output(json)\n",
    "    return summarized_output(json)"
   ]
  },
  {
   "cell_type": "markdown",
   "metadata": {},
   "source": [
    "# Search Business Listings with a Query"
   ]
  },
  {
   "cell_type": "markdown",
   "metadata": {},
   "source": [
    "This way of using the local business endpoint mirrors the typical search API experience. \n",
    "\n",
    "Let's start with something simple:"
   ]
  },
  {
   "cell_type": "code",
   "execution_count": null,
   "metadata": {},
   "outputs": [],
   "source": [
    "q = 'grocery store Seattle'"
   ]
  },
  {
   "cell_type": "markdown",
   "metadata": {},
   "source": [
    "And that's pretty much all we need. let's quickly check our headers and params."
   ]
  },
  {
   "cell_type": "code",
   "execution_count": null,
   "metadata": {},
   "outputs": [],
   "source": [
    "params, headers = get_business_listings(q, check_session=True)\n",
    "pprint(params)\n",
    "print('\\n')\n",
    "pprint(headers)"
   ]
  },
  {
   "cell_type": "markdown",
   "metadata": {},
   "source": [
    "Double check that you see the correct `q` value within your `params` dictionary above, and that your `headers` contains a valid API key."
   ]
  },
  {
   "cell_type": "code",
   "execution_count": null,
   "metadata": {},
   "outputs": [],
   "source": [
    "listings = get_business_listings(q)\n",
    "pprint(listings)\n",
    "print('{} businesses returned with this query'.format(len(listings)))"
   ]
  },
  {
   "cell_type": "markdown",
   "metadata": {},
   "source": [
    "The output you're seeing is summarized to give you a high-level view of the entities being returned. Let's take a look at what a full listing looks like:"
   ]
  },
  {
   "cell_type": "code",
   "execution_count": null,
   "metadata": {},
   "outputs": [],
   "source": [
    "full_listings = get_business_listings(q, summarized=False)\n",
    "pprint(full_listings[0])"
   ]
  },
  {
   "cell_type": "markdown",
   "metadata": {},
   "source": [
    "# Paging"
   ]
  },
  {
   "cell_type": "markdown",
   "metadata": {},
   "source": [
    "The local business API is an offshot of a major public search engine and it's still in preview, so pagination is probably going to be a bit tricky. Let's take a look at our returned `totalEstimatedMatches` (tem) value:"
   ]
  },
  {
   "cell_type": "code",
   "execution_count": null,
   "metadata": {},
   "outputs": [],
   "source": [
    "json_from_bing = get_json_from_bing(q)\n",
    "total_estimated_matches = get_tem(json_from_bing)\n",
    "print('Bing says there are {} listings that match our query'.format(total_estimated_matches))\n",
    "print('Our list currently has {} listings.'.format(len(listings)))"
   ]
  },
  {
   "cell_type": "markdown",
   "metadata": {},
   "source": [
    "To be honest, if you're running this notebook on your own, there's no telling which of the numbers above will be bigger. Bing might say there are less possible matches than it gave you, it might say there are more than it was willing to return, or it might tell you that you've been handed exactly as many listings as exist."
   ]
  },
  {
   "cell_type": "markdown",
   "metadata": {},
   "source": [
    "This figure is not to be trusted.  It's worth paging to the next set of results to see if we can extend our list."
   ]
  },
  {
   "cell_type": "markdown",
   "metadata": {},
   "source": [
    "let's increment our `offset` url param & try again:"
   ]
  },
  {
   "cell_type": "code",
   "execution_count": null,
   "metadata": {},
   "outputs": [],
   "source": [
    "before = len(listings)"
   ]
  },
  {
   "cell_type": "code",
   "execution_count": null,
   "metadata": {},
   "outputs": [],
   "source": [
    "new_params = {'offset' : str(len(listings)), 'count': \"50\"}\n",
    "listings += get_business_listings(q, custom_params=new_params)\n",
    "listings = dedupe(listings)#<==This is a simple way to make sure we don't accept duplicates, however it does not preserve ordering."
   ]
  },
  {
   "cell_type": "code",
   "execution_count": null,
   "metadata": {},
   "outputs": [],
   "source": [
    "after = len(listings)"
   ]
  },
  {
   "cell_type": "markdown",
   "metadata": {},
   "source": [
    "Let's check out our results:"
   ]
  },
  {
   "cell_type": "code",
   "execution_count": null,
   "metadata": {},
   "outputs": [],
   "source": [
    "pprint(listings)\n",
    "print('Previously had {} listings, added {} new ones for {} current listings.'.format(before, after - before, after))"
   ]
  },
  {
   "cell_type": "markdown",
   "metadata": {},
   "source": [
    "How you define your **stop condition** for pagination is up to you. This section is merely meant to show you that hitting the `totalEstimatedMatches` value "
   ]
  },
  {
   "cell_type": "code",
   "execution_count": null,
   "metadata": {},
   "outputs": [],
   "source": [
    "# reset our session info for the next section.\n",
    "HEADERS = STARTING_HEADERS.copy()\n",
    "PARAMS = STARTING_PARAMS.copy()"
   ]
  },
  {
   "cell_type": "markdown",
   "metadata": {},
   "source": [
    "# Search Business Listings Categorically"
   ]
  },
  {
   "cell_type": "markdown",
   "metadata": {},
   "source": [
    "Within this folder you'll find a python file called [local_business_categories.py](./local_business_categories.py), which contains a list of possible values for the 'localCategories' url param (as of June 2019.) Refer to [the official docs](https://docs.microsoft.com/en-us/azure/cognitive-services/bing-local-business-search/local-categories) for an up to date list. "
   ]
  },
  {
   "cell_type": "code",
   "execution_count": null,
   "metadata": {},
   "outputs": [],
   "source": [
    "from local_business_categories import MAIN_CATEGORIES"
   ]
  },
  {
   "cell_type": "code",
   "execution_count": null,
   "metadata": {},
   "outputs": [],
   "source": [
    "pprint(MAIN_CATEGORIES)"
   ]
  },
  {
   "cell_type": "markdown",
   "metadata": {},
   "source": [
    "We can use one of these instead of our normal `q` param."
   ]
  },
  {
   "cell_type": "code",
   "execution_count": null,
   "metadata": {},
   "outputs": [],
   "source": [
    "# null out q and set category/location\n",
    "q = ''\n",
    "newer_params = {'localCategories' : MAIN_CATEGORIES[-1]}# AKA {'localCategories' : 'Hospitals'}"
   ]
  },
  {
   "cell_type": "markdown",
   "metadata": {},
   "source": [
    "In fact, `q` needs to be an empty string when searching categorically."
   ]
  },
  {
   "cell_type": "markdown",
   "metadata": {},
   "source": [
    "Note that we had two pieces of information in our `q` value from the previous section: \"grocery store Seattle\"\n",
    " - A type of business (\"Grocery Store\")\n",
    " - A location (\"Seattle\")\n",
    "\n",
    "Now we're looking for hospitals, and the `{'localCategories' : MAIN_CATEGORIES[-1],` line above takes care of that for us. **However,** We have not specified a location yet. Unless we want Bing to infer location based on our IP address, we will need to use another url param:"
   ]
  },
  {
   "cell_type": "code",
   "execution_count": null,
   "metadata": {},
   "outputs": [],
   "source": [
    "newer_params.update({'localCircularView' : '47.6421,-122.13715,5000'})\n",
    "pprint(newer_params)"
   ]
  },
  {
   "cell_type": "markdown",
   "metadata": {},
   "source": [
    "The `'localCircularView'` draws a circle using a coordinate and a radius. The param takes 3 comma-separated arguments:\n",
    " - Latitude of center point\n",
    " - Longitude of center point\n",
    " - Radius (in meters,) AKA the distance from the center point within which we want to search."
   ]
  },
  {
   "cell_type": "code",
   "execution_count": null,
   "metadata": {},
   "outputs": [],
   "source": [
    "print('lat:{}°\\nlong:{}°\\nradius:{}m'.format(*newer_params['localCircularView'].split(',')))"
   ]
  },
  {
   "cell_type": "markdown",
   "metadata": {},
   "source": [
    "Adding this^ to our existing set of params will define a categorical query for hospitals within 5000 meters of the point 46.6421 by -112.13715. \n",
    "\n",
    "For sanity's sake, let's take a quick look at the full list of our url params:"
   ]
  },
  {
   "cell_type": "code",
   "execution_count": null,
   "metadata": {},
   "outputs": [],
   "source": [
    "pprint(get_business_listings(q, custom_params=newer_params, check_session=True)[0])"
   ]
  },
  {
   "cell_type": "markdown",
   "metadata": {},
   "source": [
    "I'm going to say it one more time: **`q` MUST BE AN EMPTY STRING WHEN SEARCHING CATEGORICALLY**. If it isn't, you won't get any results.\n",
    "\n",
    "Let's try it out:"
   ]
  },
  {
   "cell_type": "code",
   "execution_count": null,
   "metadata": {},
   "outputs": [],
   "source": [
    "listings = get_business_listings(q, custom_params=newer_params)\n",
    "pprint(listings)\n",
    "print('{} businesses returned with this query'.format(len(listings)))"
   ]
  },
  {
   "cell_type": "markdown",
   "metadata": {},
   "source": [
    "Awesome. Let's see if we can DO STUFF MOAR STUFF HERE."
   ]
  },
  {
   "cell_type": "markdown",
   "metadata": {},
   "source": []
  },
  {
   "cell_type": "code",
   "execution_count": null,
   "metadata": {},
   "outputs": [],
   "source": []
  },
  {
   "cell_type": "markdown",
   "metadata": {},
   "source": [
    "this is not done yet."
   ]
  },
  {
   "cell_type": "code",
   "execution_count": null,
   "metadata": {},
   "outputs": [],
   "source": []
  }
 ],
 "metadata": {
  "kernelspec": {
   "display_name": "Python 3",
   "language": "python",
   "name": "python3"
  },
  "language_info": {
   "codemirror_mode": {
    "name": "ipython",
    "version": 3
   },
   "file_extension": ".py",
   "mimetype": "text/x-python",
   "name": "python",
   "nbconvert_exporter": "python",
   "pygments_lexer": "ipython3",
   "version": "3.7.3"
  }
 },
 "nbformat": 4,
 "nbformat_minor": 2
}
